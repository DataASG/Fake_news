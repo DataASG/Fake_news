{
 "cells": [
  {
   "cell_type": "markdown",
   "metadata": {},
   "source": [
    "# Imports"
   ]
  },
  {
   "cell_type": "code",
   "execution_count": 29,
   "metadata": {
    "ExecuteTime": {
     "end_time": "2020-11-30T12:31:34.343714Z",
     "start_time": "2020-11-30T12:31:29.799032Z"
    }
   },
   "outputs": [],
   "source": [
    "import matplotlib\n",
    "%matplotlib inline\n",
    "import numpy as np\n",
    "import pandas as pd\n",
    "import string\n",
    "from nltk.corpus import stopwords\n",
    "from nltk.tokenize import word_tokenize\n",
    "from nltk.stem import WordNetLemmatizer\n",
    "import matplotlib.pyplot as plt\n",
    "from sklearn.feature_extraction.text import CountVectorizer, TfidfVectorizer, HashingVectorizer\n",
    "from sklearn.model_selection import train_test_split\n",
    "from sklearn.linear_model import PassiveAggressiveClassifier\n",
    "from sklearn import metrics\n",
    "import numpy as np\n",
    "import itertools\n",
    "from sklearn.metrics import confusion_matrix\n",
    "from sklearn.tree import DecisionTreeClassifier\n",
    "from sklearn.naive_bayes import MultinomialNB\n",
    "from sklearn.dummy import DummyClassifier\n",
    "from sklearn.model_selection import cross_validate"
   ]
  },
  {
   "cell_type": "markdown",
   "metadata": {},
   "source": [
    "# Dataset"
   ]
  },
  {
   "cell_type": "code",
   "execution_count": 31,
   "metadata": {
    "ExecuteTime": {
     "end_time": "2020-11-30T12:31:39.606774Z",
     "start_time": "2020-11-30T12:31:34.346640Z"
    }
   },
   "outputs": [],
   "source": [
    "df = pd.read_csv('~/Documents/wagon_data/data.csv')"
   ]
  },
  {
   "cell_type": "code",
   "execution_count": 32,
   "metadata": {
    "ExecuteTime": {
     "end_time": "2020-11-30T12:31:39.701133Z",
     "start_time": "2020-11-30T12:31:39.661041Z"
    }
   },
   "outputs": [],
   "source": [
    "del df['Unnamed: 0']"
   ]
  },
  {
   "cell_type": "code",
   "execution_count": 36,
   "metadata": {
    "ExecuteTime": {
     "end_time": "2020-11-30T12:31:39.795479Z",
     "start_time": "2020-11-30T12:31:39.742157Z"
    },
    "scrolled": true
   },
   "outputs": [
    {
     "data": {
      "text/html": [
       "<div>\n",
       "<style scoped>\n",
       "    .dataframe tbody tr th:only-of-type {\n",
       "        vertical-align: middle;\n",
       "    }\n",
       "\n",
       "    .dataframe tbody tr th {\n",
       "        vertical-align: top;\n",
       "    }\n",
       "\n",
       "    .dataframe thead th {\n",
       "        text-align: right;\n",
       "    }\n",
       "</style>\n",
       "<table border=\"1\" class=\"dataframe\">\n",
       "  <thead>\n",
       "    <tr style=\"text-align: right;\">\n",
       "      <th></th>\n",
       "      <th>title</th>\n",
       "      <th>text</th>\n",
       "      <th>label</th>\n",
       "    </tr>\n",
       "  </thead>\n",
       "  <tbody>\n",
       "    <tr>\n",
       "      <th>0</th>\n",
       "      <td>Four ways Bob Corker skewered Donald Trump</td>\n",
       "      <td>Image copyright Getty Images\\nOn Sunday mornin...</td>\n",
       "      <td>0</td>\n",
       "    </tr>\n",
       "    <tr>\n",
       "      <th>1</th>\n",
       "      <td>Linklater's war veteran comedy speaks to moder...</td>\n",
       "      <td>LONDON (Reuters) - “Last Flag Flying”, a comed...</td>\n",
       "      <td>0</td>\n",
       "    </tr>\n",
       "    <tr>\n",
       "      <th>2</th>\n",
       "      <td>Trump’s Fight With Corker Jeopardizes His Legi...</td>\n",
       "      <td>The feud broke into public view last week when...</td>\n",
       "      <td>0</td>\n",
       "    </tr>\n",
       "    <tr>\n",
       "      <th>3</th>\n",
       "      <td>Egypt's Cheiron wins tie-up with Pemex for Mex...</td>\n",
       "      <td>MEXICO CITY (Reuters) - Egypt’s Cheiron Holdin...</td>\n",
       "      <td>0</td>\n",
       "    </tr>\n",
       "    <tr>\n",
       "      <th>4</th>\n",
       "      <td>Jason Aldean opens 'SNL' with Vegas tribute</td>\n",
       "      <td>Country singer Jason Aldean, who was performin...</td>\n",
       "      <td>0</td>\n",
       "    </tr>\n",
       "  </tbody>\n",
       "</table>\n",
       "</div>"
      ],
      "text/plain": [
       "                                               title  \\\n",
       "0         Four ways Bob Corker skewered Donald Trump   \n",
       "1  Linklater's war veteran comedy speaks to moder...   \n",
       "2  Trump’s Fight With Corker Jeopardizes His Legi...   \n",
       "3  Egypt's Cheiron wins tie-up with Pemex for Mex...   \n",
       "4        Jason Aldean opens 'SNL' with Vegas tribute   \n",
       "\n",
       "                                                text  label  \n",
       "0  Image copyright Getty Images\\nOn Sunday mornin...      0  \n",
       "1  LONDON (Reuters) - “Last Flag Flying”, a comed...      0  \n",
       "2  The feud broke into public view last week when...      0  \n",
       "3  MEXICO CITY (Reuters) - Egypt’s Cheiron Holdin...      0  \n",
       "4  Country singer Jason Aldean, who was performin...      0  "
      ]
     },
     "execution_count": 36,
     "metadata": {},
     "output_type": "execute_result"
    }
   ],
   "source": [
    "df.head()"
   ]
  },
  {
   "cell_type": "code",
   "execution_count": 34,
   "metadata": {
    "ExecuteTime": {
     "end_time": "2020-11-30T12:31:40.001439Z",
     "start_time": "2020-11-30T12:31:39.860650Z"
    }
   },
   "outputs": [],
   "source": [
    "df_sample = df.sample(frac=0.3, random_state=3) "
   ]
  },
  {
   "cell_type": "code",
   "execution_count": 37,
   "metadata": {
    "ExecuteTime": {
     "end_time": "2020-11-30T12:31:40.057593Z",
     "start_time": "2020-11-30T12:31:40.038753Z"
    }
   },
   "outputs": [
    {
     "data": {
      "text/plain": [
       "(19489, 3)"
      ]
     },
     "execution_count": 37,
     "metadata": {},
     "output_type": "execute_result"
    }
   ],
   "source": [
    "df_sample.shape"
   ]
  },
  {
   "cell_type": "code",
   "execution_count": 38,
   "metadata": {
    "ExecuteTime": {
     "end_time": "2020-11-30T12:31:40.103784Z",
     "start_time": "2020-11-30T12:31:40.073392Z"
    }
   },
   "outputs": [
    {
     "data": {
      "text/plain": [
       "0    10944\n",
       "1     8545\n",
       "Name: label, dtype: int64"
      ]
     },
     "execution_count": 38,
     "metadata": {},
     "output_type": "execute_result"
    }
   ],
   "source": [
    "df_sample['label'].value_counts()"
   ]
  },
  {
   "cell_type": "code",
   "execution_count": 39,
   "metadata": {
    "ExecuteTime": {
     "end_time": "2020-11-30T12:31:40.135347Z",
     "start_time": "2020-11-30T12:31:40.119173Z"
    }
   },
   "outputs": [],
   "source": [
    "df_sample = df_sample.reset_index(drop=True)"
   ]
  },
  {
   "cell_type": "markdown",
   "metadata": {},
   "source": [
    "# X & y "
   ]
  },
  {
   "cell_type": "code",
   "execution_count": 40,
   "metadata": {
    "ExecuteTime": {
     "end_time": "2020-11-30T12:31:40.252401Z",
     "start_time": "2020-11-30T12:31:40.237860Z"
    }
   },
   "outputs": [],
   "source": [
    "y = df_sample['label']"
   ]
  },
  {
   "cell_type": "code",
   "execution_count": 41,
   "metadata": {
    "ExecuteTime": {
     "end_time": "2020-11-30T12:31:40.271252Z",
     "start_time": "2020-11-30T12:31:40.258909Z"
    }
   },
   "outputs": [],
   "source": [
    "X = df_sample.drop('label',axis=1)"
   ]
  },
  {
   "cell_type": "markdown",
   "metadata": {
    "ExecuteTime": {
     "end_time": "2020-11-30T09:35:17.378910Z",
     "start_time": "2020-11-30T09:35:17.374332Z"
    }
   },
   "source": [
    "# Preprocessing"
   ]
  },
  {
   "cell_type": "code",
   "execution_count": 42,
   "metadata": {
    "ExecuteTime": {
     "end_time": "2020-11-30T12:31:40.301831Z",
     "start_time": "2020-11-30T12:31:40.277128Z"
    }
   },
   "outputs": [],
   "source": [
    "def clean(text):\n",
    "    for punctuation in string.punctuation:\n",
    "        text = text.replace(punctuation, ' ')  # Remove Punctuation\n",
    "    lowercased = text.lower()  # Lower Case\n",
    "    tokenized = word_tokenize(lowercased)  # Tokenize\n",
    "    words_only = [word for word in tokenized if word.isalpha()\n",
    "                  ]  # Remove numbers\n",
    "    stop_words = set(stopwords.words('english'))  # Make stopword list\n",
    "    # Remove Stop Words\n",
    "    without_stopwords = [word for word in words_only if not word in stop_words]\n",
    "    lemma = WordNetLemmatizer()  # Initiate Lemmatizer\n",
    "    lemmatized = [lemma.lemmatize(word)\n",
    "                  for word in without_stopwords]  # Lemmatize\n",
    "    return lemmatized"
   ]
  },
  {
   "cell_type": "code",
   "execution_count": 43,
   "metadata": {
    "ExecuteTime": {
     "end_time": "2020-11-30T12:33:46.163085Z",
     "start_time": "2020-11-30T12:31:40.308031Z"
    }
   },
   "outputs": [],
   "source": [
    "df_sample_text = df_sample['text'].apply(lambda text: clean(text))"
   ]
  },
  {
   "cell_type": "code",
   "execution_count": null,
   "metadata": {
    "ExecuteTime": {
     "end_time": "2020-11-30T12:33:46.549732Z",
     "start_time": "2020-11-30T12:33:46.167968Z"
    }
   },
   "outputs": [],
   "source": [
    "df_sample_text_joined = df_sample_text.apply(lambda x: \" \".join(x))"
   ]
  },
  {
   "cell_type": "code",
   "execution_count": null,
   "metadata": {
    "ExecuteTime": {
     "end_time": "2020-11-30T12:33:53.623841Z",
     "start_time": "2020-11-30T12:33:46.551885Z"
    }
   },
   "outputs": [],
   "source": [
    "df_sample_title = df_sample['title'].apply(lambda text: clean(text))"
   ]
  },
  {
   "cell_type": "code",
   "execution_count": null,
   "metadata": {
    "ExecuteTime": {
     "end_time": "2020-11-30T12:33:53.644728Z",
     "start_time": "2020-11-30T12:33:53.626504Z"
    }
   },
   "outputs": [],
   "source": [
    "df_sample_title_joined = df_sample_title.apply(lambda x: \" \".join(x))"
   ]
  },
  {
   "cell_type": "code",
   "execution_count": null,
   "metadata": {},
   "outputs": [],
   "source": [
    "df_smaple_title_joined"
   ]
  },
  {
   "cell_type": "markdown",
   "metadata": {},
   "source": [
    "# Vectorizer"
   ]
  },
  {
   "cell_type": "code",
   "execution_count": 20,
   "metadata": {
    "ExecuteTime": {
     "end_time": "2020-11-30T12:33:53.653420Z",
     "start_time": "2020-11-30T12:33:53.647994Z"
    }
   },
   "outputs": [],
   "source": [
    "## TFidf Vectorizer\n",
    "tfidf_vec=TfidfVectorizer(max_features=10000,ngram_range=(1,3))"
   ]
  },
  {
   "cell_type": "code",
   "execution_count": 21,
   "metadata": {
    "ExecuteTime": {
     "end_time": "2020-11-30T12:35:02.477436Z",
     "start_time": "2020-11-30T12:33:53.661669Z"
    }
   },
   "outputs": [],
   "source": [
    "df_text = tfidf_vec.fit_transform(df_sample_text_joined).toarray()"
   ]
  },
  {
   "cell_type": "code",
   "execution_count": 22,
   "metadata": {
    "ExecuteTime": {
     "end_time": "2020-11-30T12:35:05.805153Z",
     "start_time": "2020-11-30T12:35:02.486403Z"
    }
   },
   "outputs": [],
   "source": [
    "df_title = tfidf_vec.fit_transform(df_sample_title_joined).toarray()"
   ]
  },
  {
   "cell_type": "code",
   "execution_count": 23,
   "metadata": {
    "ExecuteTime": {
     "end_time": "2020-11-30T12:35:09.810560Z",
     "start_time": "2020-11-30T12:35:05.813058Z"
    }
   },
   "outputs": [],
   "source": [
    "X_tfidf = np.hstack(( df_title, df_text))"
   ]
  },
  {
   "cell_type": "code",
   "execution_count": 20,
   "metadata": {
    "ExecuteTime": {
     "end_time": "2020-11-30T12:35:09.848290Z",
     "start_time": "2020-11-30T12:35:09.816055Z"
    }
   },
   "outputs": [
    {
     "data": {
      "text/plain": [
       "(19489, 20000)"
      ]
     },
     "execution_count": 20,
     "metadata": {},
     "output_type": "execute_result"
    }
   ],
   "source": [
    "X_tfidf.shape"
   ]
  },
  {
   "cell_type": "markdown",
   "metadata": {},
   "source": [
    "# Train Test Set"
   ]
  },
  {
   "cell_type": "code",
   "execution_count": 44,
   "metadata": {
    "ExecuteTime": {
     "end_time": "2020-11-30T12:35:15.166162Z",
     "start_time": "2020-11-30T12:35:09.851091Z"
    }
   },
   "outputs": [],
   "source": [
    "## Divide the dataset into Train and Test TFidf Vectorizer\n",
    "X_train, X_test, y_train, y_test = train_test_split(X_tfidf, y, test_size=0.3, random_state=0)"
   ]
  },
  {
   "cell_type": "markdown",
   "metadata": {},
   "source": [
    "# Model"
   ]
  },
  {
   "cell_type": "code",
   "execution_count": 22,
   "metadata": {
    "ExecuteTime": {
     "end_time": "2020-11-30T12:35:15.186134Z",
     "start_time": "2020-11-30T12:35:15.173800Z"
    }
   },
   "outputs": [],
   "source": [
    "#PassiveAgressiveClassifier"
   ]
  },
  {
   "cell_type": "code",
   "execution_count": 46,
   "metadata": {
    "ExecuteTime": {
     "end_time": "2020-11-30T12:35:15.226499Z",
     "start_time": "2020-11-30T12:35:15.196953Z"
    }
   },
   "outputs": [],
   "source": [
    "linear_clf = PassiveAggressiveClassifier(max_iter=50)"
   ]
  },
  {
   "cell_type": "code",
   "execution_count": 47,
   "metadata": {
    "ExecuteTime": {
     "end_time": "2020-11-30T12:35:54.895749Z",
     "start_time": "2020-11-30T12:35:15.268730Z"
    }
   },
   "outputs": [],
   "source": [
    "linear_clf.fit(X_train, y_train)\n",
    "pred_test = linear_clf.predict(X_test)\n",
    "pred_train = linear_clf.predict(X_train)"
   ]
  },
  {
   "cell_type": "code",
   "execution_count": 51,
   "metadata": {},
   "outputs": [
    {
     "data": {
      "text/plain": [
       "0.9500598597571405"
      ]
     },
     "execution_count": 51,
     "metadata": {},
     "output_type": "execute_result"
    }
   ],
   "source": [
    "linear_clf.score(X_test, y_test)"
   ]
  },
  {
   "cell_type": "code",
   "execution_count": 25,
   "metadata": {
    "ExecuteTime": {
     "end_time": "2020-11-30T12:35:54.938275Z",
     "start_time": "2020-11-30T12:35:54.908640Z"
    }
   },
   "outputs": [
    {
     "data": {
      "text/plain": [
       "array([0, 0, 0, ..., 0, 0, 1])"
      ]
     },
     "execution_count": 25,
     "metadata": {},
     "output_type": "execute_result"
    }
   ],
   "source": [
    "pred_train"
   ]
  },
  {
   "cell_type": "code",
   "execution_count": 26,
   "metadata": {
    "ExecuteTime": {
     "end_time": "2020-11-30T12:35:54.962143Z",
     "start_time": "2020-11-30T12:35:54.942523Z"
    }
   },
   "outputs": [
    {
     "data": {
      "text/plain": [
       "array([0., 0., 0., ..., 0., 0., 0.])"
      ]
     },
     "execution_count": 26,
     "metadata": {},
     "output_type": "execute_result"
    }
   ],
   "source": [
    "X_train[2]"
   ]
  },
  {
   "cell_type": "code",
   "execution_count": 27,
   "metadata": {
    "ExecuteTime": {
     "end_time": "2020-11-30T12:35:54.991382Z",
     "start_time": "2020-11-30T12:35:54.965637Z"
    }
   },
   "outputs": [
    {
     "data": {
      "text/plain": [
       "array([[3128,  170],\n",
       "       [ 140, 2409]])"
      ]
     },
     "execution_count": 27,
     "metadata": {},
     "output_type": "execute_result"
    }
   ],
   "source": [
    "confusion_matrix(y_test, pred_test)"
   ]
  },
  {
   "cell_type": "code",
   "execution_count": 28,
   "metadata": {
    "ExecuteTime": {
     "end_time": "2020-11-30T12:35:55.035593Z",
     "start_time": "2020-11-30T12:35:55.000688Z"
    }
   },
   "outputs": [
    {
     "data": {
      "text/plain": [
       "array([[7646,    0],\n",
       "       [   0, 5996]])"
      ]
     },
     "execution_count": 28,
     "metadata": {},
     "output_type": "execute_result"
    }
   ],
   "source": [
    "confusion_matrix(y_train, pred_train)"
   ]
  },
  {
   "cell_type": "code",
   "execution_count": 29,
   "metadata": {
    "ExecuteTime": {
     "end_time": "2020-11-30T12:35:55.055655Z",
     "start_time": "2020-11-30T12:35:55.038288Z"
    }
   },
   "outputs": [
    {
     "name": "stdout",
     "output_type": "stream",
     "text": [
      "accuracy:   0.947\n"
     ]
    }
   ],
   "source": [
    "score_pac = metrics.accuracy_score(y_test, pred_test)\n",
    "print(\"accuracy:   %0.3f\" % score_pac)"
   ]
  },
  {
   "cell_type": "code",
   "execution_count": 30,
   "metadata": {
    "ExecuteTime": {
     "end_time": "2020-11-30T12:35:55.069585Z",
     "start_time": "2020-11-30T12:35:55.063503Z"
    }
   },
   "outputs": [],
   "source": [
    "from sklearn.metrics import classification_report"
   ]
  },
  {
   "cell_type": "code",
   "execution_count": 31,
   "metadata": {
    "ExecuteTime": {
     "end_time": "2020-11-30T12:35:55.111541Z",
     "start_time": "2020-11-30T12:35:55.074029Z"
    }
   },
   "outputs": [
    {
     "name": "stdout",
     "output_type": "stream",
     "text": [
      "              precision    recall  f1-score   support\n",
      "\n",
      "           0       1.00      1.00      1.00      7646\n",
      "           1       1.00      1.00      1.00      5996\n",
      "\n",
      "   micro avg       1.00      1.00      1.00     13642\n",
      "   macro avg       1.00      1.00      1.00     13642\n",
      "weighted avg       1.00      1.00      1.00     13642\n",
      "\n"
     ]
    }
   ],
   "source": [
    "print(classification_report(y_train, pred_train))"
   ]
  },
  {
   "cell_type": "code",
   "execution_count": 32,
   "metadata": {
    "ExecuteTime": {
     "end_time": "2020-11-30T12:35:55.135406Z",
     "start_time": "2020-11-30T12:35:55.116424Z"
    }
   },
   "outputs": [
    {
     "name": "stdout",
     "output_type": "stream",
     "text": [
      "              precision    recall  f1-score   support\n",
      "\n",
      "           0       0.96      0.95      0.95      3298\n",
      "           1       0.93      0.95      0.94      2549\n",
      "\n",
      "   micro avg       0.95      0.95      0.95      5847\n",
      "   macro avg       0.95      0.95      0.95      5847\n",
      "weighted avg       0.95      0.95      0.95      5847\n",
      "\n"
     ]
    }
   ],
   "source": [
    "print(classification_report(y_test, pred_test))"
   ]
  },
  {
   "cell_type": "markdown",
   "metadata": {},
   "source": [
    "# Example test "
   ]
  },
  {
   "cell_type": "code",
   "execution_count": 131,
   "metadata": {
    "ExecuteTime": {
     "end_time": "2020-11-30T14:15:09.384913Z",
     "start_time": "2020-11-30T14:15:09.369334Z"
    }
   },
   "outputs": [
    {
     "data": {
      "text/plain": [
       "' Democratic Leadership BLASTS Trump And Republicans For Targeting Medicare'"
      ]
     },
     "execution_count": 131,
     "metadata": {},
     "output_type": "execute_result"
    }
   ],
   "source": [
    "df['title'][30000]"
   ]
  },
  {
   "cell_type": "code",
   "execution_count": 132,
   "metadata": {
    "ExecuteTime": {
     "end_time": "2020-11-30T14:15:10.260004Z",
     "start_time": "2020-11-30T14:15:10.241117Z"
    },
    "scrolled": true
   },
   "outputs": [
    {
     "data": {
      "text/plain": [
       "'Republicans are already touting their intention to dismantle Medicare and Donald Trump is poised to be the rubber stamp. But Democrats are prepared to do whatever it takes to stop them.House Speaker Paul Ryan has been waiting for a puppet president to come along for a long time now so that he can get his plan to kill Medicare signed into law.Now he has one, and has made little effort to hide his intention to target Medicare on the first day Trump takes office.Ryan s plan would privatize Medicare, which basically means he would give it to Wall Street and turn it into a voucher system. Medicare itself would whither of the vine and die and anyone who is on Medicare or looked forward to it would be shit out of luck because they would get less care at higher prices.On Tuesday, Kellyanne Conway even signaled that Trump will consider Ryan s proposal to gut Medicare. He will, I m sure, take a look at Speaker Ryan s proposal and other proposals,  Conway said.  In this case, he will go ahead and look at alternatives. Well, if Republicans thought they would be able to just jam through whatever laws they want, they are gravely mistaken.Incoming Senate Minority Leader Chuck Schumer fired a warning shot at the GOP on Friday making it clear that Democrats will fight tooth and nail to block any Republican bill that dismantles the popular healthcare program that has been working perfectly since 1966 when it was enacted. The Republicans  ideological and visceral hatred of government could deny millions of senior citizens across the country the care they need and deserve,  Schumer said.  To our Republican colleagues considering this path, Democrats say,  Make our day.  Your effort will fail, and this attack on our seniors will not stand. Nancy Pelosi chimed in with a warning of her own. It s ideological with the speaker to take away the guarantee of Medicare,  she said.  But [the program] is a fundamental pillar of health and economic security. And we will not go down that path. In short, Democrats in the House and Senate are prepared to to obstruct Republicans in the same way they obstructed President Obama over the last eight years. And that s exactly what Democrats need to do. They need to more vicious and uncooperative than Republicans ever were. It s time to give them a taste of their own medicine for America s sake. Anything less should be punished harshly when the midterm elections roll around in 2018. So Democrats better hold the line and fiercely defend America s social contract or they can expect primary challenges. There is absolutely no excuse for Democrats to treat Trump better than Republicans treated President Obama. In fact, there is every reason to treat him worse. The future of our country depends on it.Featured Image: Zach Gibson/Getty Images'"
      ]
     },
     "execution_count": 132,
     "metadata": {},
     "output_type": "execute_result"
    }
   ],
   "source": [
    "df['text'][30000]"
   ]
  },
  {
   "cell_type": "code",
   "execution_count": 133,
   "metadata": {
    "ExecuteTime": {
     "end_time": "2020-11-30T14:15:11.161465Z",
     "start_time": "2020-11-30T14:15:11.129580Z"
    }
   },
   "outputs": [
    {
     "data": {
      "text/plain": [
       "1"
      ]
     },
     "execution_count": 133,
     "metadata": {},
     "output_type": "execute_result"
    }
   ],
   "source": [
    "df['label'][30000]"
   ]
  },
  {
   "cell_type": "code",
   "execution_count": 134,
   "metadata": {
    "ExecuteTime": {
     "end_time": "2020-11-30T14:15:11.900295Z",
     "start_time": "2020-11-30T14:15:11.817490Z"
    }
   },
   "outputs": [],
   "source": [
    "text_1 = clean(df['text'][30000])"
   ]
  },
  {
   "cell_type": "code",
   "execution_count": 135,
   "metadata": {
    "ExecuteTime": {
     "end_time": "2020-11-30T14:15:12.561315Z",
     "start_time": "2020-11-30T14:15:12.544235Z"
    }
   },
   "outputs": [],
   "source": [
    "text_joined_1 = \" \".join(text_1)"
   ]
  },
  {
   "cell_type": "code",
   "execution_count": 136,
   "metadata": {
    "ExecuteTime": {
     "end_time": "2020-11-30T14:15:12.795013Z",
     "start_time": "2020-11-30T14:15:12.785908Z"
    }
   },
   "outputs": [],
   "source": [
    "title_1 = clean(df['title'][30000])"
   ]
  },
  {
   "cell_type": "code",
   "execution_count": 137,
   "metadata": {
    "ExecuteTime": {
     "end_time": "2020-11-30T14:15:13.001759Z",
     "start_time": "2020-11-30T14:15:12.993728Z"
    }
   },
   "outputs": [],
   "source": [
    "title_joined_1 = \" \".join(title_1)"
   ]
  },
  {
   "cell_type": "code",
   "execution_count": 138,
   "metadata": {
    "ExecuteTime": {
     "end_time": "2020-11-30T14:15:13.511373Z",
     "start_time": "2020-11-30T14:15:13.431829Z"
    }
   },
   "outputs": [],
   "source": [
    "df_text_1 = tfidf_vec.transform([text_joined_1]).toarray() "
   ]
  },
  {
   "cell_type": "code",
   "execution_count": 139,
   "metadata": {
    "ExecuteTime": {
     "end_time": "2020-11-30T14:15:13.642060Z",
     "start_time": "2020-11-30T14:15:13.631053Z"
    }
   },
   "outputs": [],
   "source": [
    "df_title_1 = tfidf_vec.transform([title_joined_1]).toarray()"
   ]
  },
  {
   "cell_type": "code",
   "execution_count": 140,
   "metadata": {
    "ExecuteTime": {
     "end_time": "2020-11-30T14:15:13.860226Z",
     "start_time": "2020-11-30T14:15:13.853196Z"
    }
   },
   "outputs": [],
   "source": [
    "X_1 = np.hstack((df_title_1, df_text_1))"
   ]
  },
  {
   "cell_type": "code",
   "execution_count": 141,
   "metadata": {
    "ExecuteTime": {
     "end_time": "2020-11-30T14:15:14.161720Z",
     "start_time": "2020-11-30T14:15:14.148408Z"
    }
   },
   "outputs": [
    {
     "data": {
      "text/plain": [
       "array([[0., 0., 0., ..., 0., 0., 0.]])"
      ]
     },
     "execution_count": 141,
     "metadata": {},
     "output_type": "execute_result"
    }
   ],
   "source": [
    "X_1"
   ]
  },
  {
   "cell_type": "code",
   "execution_count": 142,
   "metadata": {
    "ExecuteTime": {
     "end_time": "2020-11-30T14:15:14.715481Z",
     "start_time": "2020-11-30T14:15:14.701877Z"
    }
   },
   "outputs": [
    {
     "data": {
      "text/plain": [
       "array([1])"
      ]
     },
     "execution_count": 142,
     "metadata": {},
     "output_type": "execute_result"
    }
   ],
   "source": [
    "linear_clf.predict(X_1)"
   ]
  },
  {
   "cell_type": "markdown",
   "metadata": {},
   "source": []
  },
  {
   "cell_type": "code",
   "execution_count": null,
   "metadata": {},
   "outputs": [],
   "source": []
  },
  {
   "cell_type": "code",
   "execution_count": null,
   "metadata": {},
   "outputs": [],
   "source": []
  }
 ],
 "metadata": {
  "kernelspec": {
   "display_name": "Python 3",
   "language": "python",
   "name": "python3"
  },
  "language_info": {
   "codemirror_mode": {
    "name": "ipython",
    "version": 3
   },
   "file_extension": ".py",
   "mimetype": "text/x-python",
   "name": "python",
   "nbconvert_exporter": "python",
   "pygments_lexer": "ipython3",
   "version": "3.7.7"
  },
  "toc": {
   "base_numbering": 1,
   "nav_menu": {},
   "number_sections": true,
   "sideBar": true,
   "skip_h1_title": false,
   "title_cell": "Table of Contents",
   "title_sidebar": "Contents",
   "toc_cell": false,
   "toc_position": {},
   "toc_section_display": true,
   "toc_window_display": false
  }
 },
 "nbformat": 4,
 "nbformat_minor": 4
}
