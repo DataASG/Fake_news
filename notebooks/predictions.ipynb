{
 "cells": [
  {
   "cell_type": "code",
   "execution_count": 1,
   "metadata": {},
   "outputs": [],
   "source": [
    "from Fake_news.data import get_data\n",
    "from Fake_news.encoders import TokenizerTransformer, PadSequencesTransformer\n",
    "from Fake_news.gcp import storage_upload\n",
    "\n",
    "import os\n",
    "import pickle\n",
    "import joblib\n",
    "import numpy as np\n",
    "import pandas as pd\n",
    "import gensim.downloader as api\n",
    "\n",
    "from tensorflow import keras\n",
    "from tensorflow.keras.models import load_model\n",
    "from sklearn.pipeline import Pipeline\n",
    "from gensim.models import KeyedVectors\n",
    "from tensorflow.keras.layers import LSTM\n",
    "from tensorflow.keras.layers import Dense\n",
    "from tensorflow.keras.layers import Embedding\n",
    "from tensorflow.keras.models import Sequential\n",
    "from sklearn.model_selection import train_test_split\n",
    "\n",
    "from tensorflow.keras.preprocessing.text import Tokenizer\n",
    "from tensorflow.keras.wrappers.scikit_learn import KerasRegressor\n",
    "from tensorflow.keras.preprocessing.sequence import pad_sequences\n",
    "from memoized_property import memoized_property\n",
    "# Mlflow wagon server"
   ]
  },
  {
   "cell_type": "code",
   "execution_count": 13,
   "metadata": {},
   "outputs": [],
   "source": [
    "def get_data(local=False, sample_size=1, nrows=None):\n",
    "    if local:\n",
    "        path = '../raw_data/data.csv'\n",
    "    else:\n",
    "        path = 'gs://fakenews475/data/data.csv'\n",
    "\n",
    "    df = pd.read_csv(path, nrows=nrows)\n",
    "    mask = (df['text'].str.len() < 6000)\n",
    "    df = df.loc[mask]\n",
    "    df = df.drop(columns=('Unnamed: 0'))\n",
    "    df = df.drop(columns=('title'))\n",
    "    # df_sample = df.sample(frac=sample_size, random_state=3)\n",
    "    # df_sample.to_csv('df_sample.csv', index=False)\n",
    "    # df = df_sample.reset_index(drop=True)\n",
    "    X = df.text\n",
    "    y = df.label\n",
    "    return X, y\n",
    "X,y = get_data(local=True, nrows=100)"
   ]
  },
  {
   "cell_type": "code",
   "execution_count": 14,
   "metadata": {},
   "outputs": [],
   "source": [
    "X_train, X_val, y_train,y_val = train_test_split(\n",
    "                 X, y, random_state=3, test_size= 0.1)"
   ]
  },
  {
   "cell_type": "code",
   "execution_count": 34,
   "metadata": {},
   "outputs": [],
   "source": [
    "def get_pipeline():\n",
    "    pipeline = joblib.load('../models_LSTM_versions_10.2_pipeline.pkl')\n",
    "    pipeline.named_steps['model'].model = load_model('../models_LSTM_versions_10.2_lstm.h5')\n",
    "    return pipeline\n",
    "pipeline=get_pipeline()"
   ]
  },
  {
   "cell_type": "code",
   "execution_count": 37,
   "metadata": {},
   "outputs": [
    {
     "data": {
      "text/plain": [
       "1    6\n",
       "0    3\n",
       "Name: label, dtype: int64"
      ]
     },
     "execution_count": 37,
     "metadata": {},
     "output_type": "execute_result"
    }
   ],
   "source": [
    "y_val.value_counts()"
   ]
  },
  {
   "cell_type": "code",
   "execution_count": 42,
   "metadata": {},
   "outputs": [
    {
     "data": {
      "text/html": [
       "<div>\n",
       "<style scoped>\n",
       "    .dataframe tbody tr th:only-of-type {\n",
       "        vertical-align: middle;\n",
       "    }\n",
       "\n",
       "    .dataframe tbody tr th {\n",
       "        vertical-align: top;\n",
       "    }\n",
       "\n",
       "    .dataframe thead th {\n",
       "        text-align: right;\n",
       "    }\n",
       "</style>\n",
       "<table border=\"1\" class=\"dataframe\">\n",
       "  <thead>\n",
       "    <tr style=\"text-align: right;\">\n",
       "      <th></th>\n",
       "      <th>0</th>\n",
       "    </tr>\n",
       "  </thead>\n",
       "  <tbody>\n",
       "    <tr>\n",
       "      <th>0</th>\n",
       "      <td>1</td>\n",
       "    </tr>\n",
       "    <tr>\n",
       "      <th>1</th>\n",
       "      <td>1</td>\n",
       "    </tr>\n",
       "    <tr>\n",
       "      <th>2</th>\n",
       "      <td>1</td>\n",
       "    </tr>\n",
       "    <tr>\n",
       "      <th>3</th>\n",
       "      <td>1</td>\n",
       "    </tr>\n",
       "    <tr>\n",
       "      <th>4</th>\n",
       "      <td>1</td>\n",
       "    </tr>\n",
       "    <tr>\n",
       "      <th>5</th>\n",
       "      <td>1</td>\n",
       "    </tr>\n",
       "    <tr>\n",
       "      <th>6</th>\n",
       "      <td>1</td>\n",
       "    </tr>\n",
       "    <tr>\n",
       "      <th>7</th>\n",
       "      <td>1</td>\n",
       "    </tr>\n",
       "    <tr>\n",
       "      <th>8</th>\n",
       "      <td>0</td>\n",
       "    </tr>\n",
       "  </tbody>\n",
       "</table>\n",
       "</div>"
      ],
      "text/plain": [
       "   0\n",
       "0  1\n",
       "1  1\n",
       "2  1\n",
       "3  1\n",
       "4  1\n",
       "5  1\n",
       "6  1\n",
       "7  1\n",
       "8  0"
      ]
     },
     "execution_count": 42,
     "metadata": {},
     "output_type": "execute_result"
    }
   ],
   "source": [
    "predictions = pipeline.predict(X_val)\n",
    "pd.DataFrame(predictions).head(20)"
   ]
  },
  {
   "cell_type": "code",
   "execution_count": 17,
   "metadata": {},
   "outputs": [
    {
     "data": {
      "text/plain": [
       "78    An Embattled Pharmaceutical Company That Sells...\n",
       "84    Broken2th And Crystal Sun Release “Castaliah”\\...\n",
       "12    Just Shut Up & Play Some Damn Baseball!!\\n(Bef...\n",
       "80    Image copyright Getty Images Image caption Rus...\n",
       "41    Q. I’m about to purchase an iMac desktop compu...\n",
       "92    FSU Opponent Preview: Wake Forest\\n(Before It'...\n",
       "98    2017 NLDS: Will Max Scherzer miss Game 1?\\n(Be...\n",
       "59    Lawrence Thomas Officially Makes Switch to Ful...\n",
       "81    Mr. Affleck has not responded to Ms. McGowan’s...\n",
       "Name: text, dtype: object"
      ]
     },
     "execution_count": 17,
     "metadata": {},
     "output_type": "execute_result"
    }
   ],
   "source": [
    "X_val"
   ]
  },
  {
   "cell_type": "code",
   "execution_count": 30,
   "metadata": {},
   "outputs": [
    {
     "data": {
      "text/plain": [
       "Pipeline(memory=None,\n",
       "     steps=[('tokenizer', TokenizerTransformer()), ('padder', PadSequencesTransformer(maxlen=417)), ('model', <tensorflow.python.keras.wrappers.scikit_learn.KerasClassifier object at 0x000002123794B348>)])"
      ]
     },
     "execution_count": 30,
     "metadata": {},
     "output_type": "execute_result"
    }
   ],
   "source": [
    "pipeline"
   ]
  },
  {
   "cell_type": "code",
   "execution_count": 43,
   "metadata": {},
   "outputs": [],
   "source": [
    "article = \"The UK has become the first country in the world to approve the Pfizer/BioNTech coronavirus vaccine, paving the way for mass vaccination.Britain's medicines regulator, the MHRA, says the jab, which offers up to 95% protection against Covid-19 illness, is safe to be rolled out.The first doses are already on their way to the UK, with 800,000 due in the coming days, Pfizer said.Health Secretary Matt Hancock said the NHS will contact people about jabs.Elderly people in care homes and care home staff have been placed top of the priority list, followed by over-80s and health and care staff.But because hospitals already have the facilities to store the vaccine at -70C, as required, the very first vaccinations are likely to take place there - for care home staff, NHS staff and patients - so none of the vaccine is wasted.A further 648 deaths within 28 days of a positive Covid-19 test were recorded in the UK on Wednesday, with another 16,170 cases reported.\""
   ]
  },
  {
   "cell_type": "code",
   "execution_count": 44,
   "metadata": {},
   "outputs": [
    {
     "data": {
      "text/plain": [
       "array([[0]], dtype=int64)"
      ]
     },
     "execution_count": 44,
     "metadata": {},
     "output_type": "execute_result"
    }
   ],
   "source": [
    "pipeline.predict([article])"
   ]
  },
  {
   "cell_type": "code",
   "execution_count": 48,
   "metadata": {},
   "outputs": [],
   "source": [
    "fake = \"In May 1803, as Britain was preparing to end the Treaty of Amiens and declare war on France, a letter was hand delivered to Sir Charles Price, the Lord Mayor of London at the Mansion-house. Allegedly written by Lord Hawkesbury, and sealed with his personal seal, the letter claimed that the dispute with France was amicably settled. The Mayor at once took the letter to the Stock Exchange to share the joyous news.\""
   ]
  },
  {
   "cell_type": "code",
   "execution_count": 51,
   "metadata": {},
   "outputs": [
    {
     "data": {
      "text/plain": [
       "array([[1]], dtype=int64)"
      ]
     },
     "execution_count": 51,
     "metadata": {},
     "output_type": "execute_result"
    }
   ],
   "source": [
    "pipeline.predict([fake])"
   ]
  },
  {
   "cell_type": "code",
   "execution_count": 52,
   "metadata": {},
   "outputs": [],
   "source": [
    "fake2 = \"The fake news of an alien attack on America is a classic one. On Sunday, 30 October 1938, the Columbia Broadcasting network aired an adaptation of the 1898 novel War of the Worlds by HG Wells. During the broadcast, the first two thirds of the story were aired over the radio as a series of breaking news alerts and the effect was so realistic that many listeners panicked, believing that there truly was an alien invasion taking place.The show began as an interruption to regular programming announcing that a professor had observed a series of gas explosions on Mars. Later, a bulletin stated that a meteor had fallen in New Jersey, killing 15,000 people. Another news flash contradicted the first, saying that the meteor was actually a cylindrical object containing strange creatures from Mars armed with death ray guns.\""
   ]
  },
  {
   "cell_type": "code",
   "execution_count": 53,
   "metadata": {},
   "outputs": [
    {
     "data": {
      "text/plain": [
       "array([[1]], dtype=int64)"
      ]
     },
     "execution_count": 53,
     "metadata": {},
     "output_type": "execute_result"
    }
   ],
   "source": [
    "pipeline.predict([fake2])"
   ]
  },
  {
   "cell_type": "code",
   "execution_count": 55,
   "metadata": {},
   "outputs": [],
   "source": [
    "real2 = \"Stewards on duty on the night of the Manchester bombing did not think Salman Abedi was a threat because they had not been trained properly, a security expert has told the attack inquiry.Col Richard Latham said a managerial fault meant Showsec staff Kyle Lawler and Mohammed Agha failed to respond to suspicious behaviour.They were hardly briefed, he said.The inquiry heard lives could have been saved if security had been quicker to shut the doors of the foyer.Twenty-two people were killed and hundreds more were injured as they left an Ariana Grande concert when Abedi detonated a bomb on 22 May 2017.'Missed opportunities'Col Latham and his colleague Dr David BaMaung said if Mr Lawler and Mr Agha had 'properly communicated' concerns over Abedi there would have been time to close the doors before the concert ended.Dr BaMaung said: 'Irrespective of how quickly we could close the arena doors, realistically if he was going to detonate, people would die that night.'But the potential would be if the procedure had been quickly, the casualties and deaths would have been less.'The inquiry has previously heard how a member of the public reported suspicions about Abedi to Mr Aghar at 22:15 BST.He then alerted Mr Lawler to the report and the pair observed him.Abedi left his position at the back of the City Room, a CCTV 'blind spot', to detonate his device at 22:31.\""
   ]
  },
  {
   "cell_type": "code",
   "execution_count": 56,
   "metadata": {},
   "outputs": [
    {
     "data": {
      "text/plain": [
       "array([[0]], dtype=int64)"
      ]
     },
     "execution_count": 56,
     "metadata": {},
     "output_type": "execute_result"
    }
   ],
   "source": [
    "pipeline.predict([real2])"
   ]
  }
 ],
 "metadata": {
  "kernelspec": {
   "display_name": "Python 3",
   "language": "python",
   "name": "python3"
  },
  "language_info": {
   "codemirror_mode": {
    "name": "ipython",
    "version": 3
   },
   "file_extension": ".py",
   "mimetype": "text/x-python",
   "name": "python",
   "nbconvert_exporter": "python",
   "pygments_lexer": "ipython3",
   "version": "3.7.7"
  },
  "toc": {
   "base_numbering": 1,
   "nav_menu": {},
   "number_sections": true,
   "sideBar": true,
   "skip_h1_title": false,
   "title_cell": "Table of Contents",
   "title_sidebar": "Contents",
   "toc_cell": false,
   "toc_position": {},
   "toc_section_display": true,
   "toc_window_display": false
  },
  "varInspector": {
   "cols": {
    "lenName": 16,
    "lenType": 16,
    "lenVar": 40
   },
   "kernels_config": {
    "python": {
     "delete_cmd_postfix": "",
     "delete_cmd_prefix": "del ",
     "library": "var_list.py",
     "varRefreshCmd": "print(var_dic_list())"
    },
    "r": {
     "delete_cmd_postfix": ") ",
     "delete_cmd_prefix": "rm(",
     "library": "var_list.r",
     "varRefreshCmd": "cat(var_dic_list()) "
    }
   },
   "types_to_exclude": [
    "module",
    "function",
    "builtin_function_or_method",
    "instance",
    "_Feature"
   ],
   "window_display": false
  }
 },
 "nbformat": 4,
 "nbformat_minor": 4
}
