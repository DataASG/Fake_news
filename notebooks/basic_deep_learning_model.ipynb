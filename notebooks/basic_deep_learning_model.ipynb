{
 "cells": [
  {
   "cell_type": "code",
   "execution_count": 1,
   "metadata": {},
   "outputs": [],
   "source": [
    "import matplotlib\n",
    "%matplotlib inline\n",
    "import numpy as np\n",
    "import pandas as pd\n",
    "import string\n",
    "from nltk.corpus import stopwords\n",
    "from nltk.tokenize import word_tokenize\n",
    "from nltk.stem import WordNetLemmatizer\n",
    "import matplotlib.pyplot as plt\n",
    "from sklearn.feature_extraction.text import CountVectorizer, TfidfVectorizer, HashingVectorizer\n",
    "from sklearn.model_selection import train_test_split\n",
    "from sklearn.linear_model import PassiveAggressiveClassifier\n",
    "from sklearn import metrics\n",
    "import numpy as np\n",
    "import itertools\n",
    "from sklearn.metrics import confusion_matrix\n",
    "from sklearn.tree import DecisionTreeClassifier\n",
    "from sklearn.naive_bayes import MultinomialNB\n",
    "from sklearn.dummy import DummyClassifier\n",
    "from sklearn.model_selection import cross_validate"
   ]
  },
  {
   "cell_type": "markdown",
   "metadata": {},
   "source": [
    "### Retrieve and Clean Data "
   ]
  },
  {
   "cell_type": "code",
   "execution_count": 2,
   "metadata": {},
   "outputs": [],
   "source": [
    "df = pd.read_csv('~/Desktop/fake_news_data/dataset.csv')\n",
    "del df['Unnamed: 0']"
   ]
  },
  {
   "cell_type": "code",
   "execution_count": 3,
   "metadata": {},
   "outputs": [
    {
     "data": {
      "text/plain": [
       "(1000, 3)"
      ]
     },
     "execution_count": 3,
     "metadata": {},
     "output_type": "execute_result"
    }
   ],
   "source": [
    "data.shape"
   ]
  },
  {
   "cell_type": "code",
   "execution_count": 4,
   "metadata": {},
   "outputs": [],
   "source": [
    "data = shuffle(data)"
   ]
  },
  {
   "cell_type": "code",
   "execution_count": 5,
   "metadata": {},
   "outputs": [],
   "source": [
    "data.reset_index(inplace=True)\n",
    "data = data.drop(columns='index')"
   ]
  },
  {
   "cell_type": "code",
   "execution_count": 6,
   "metadata": {},
   "outputs": [],
   "source": [
    "def clean(text):\n",
    "    for punctuation in string.punctuation:\n",
    "        text = text.replace(punctuation, ' ')  # Remove Punctuation\n",
    "    lowercased = text.lower()  # Lower Case\n",
    "    tokenized = word_tokenize(lowercased)  # Tokenize\n",
    "    words_only = [word for word in tokenized if word.isalpha()\n",
    "                  ]  # Remove numbers\n",
    "    stop_words = set(stopwords.words('english'))  # Make stopword list\n",
    "    # Remove Stop Words\n",
    "    without_stopwords = [word for word in words_only if not word in stop_words]\n",
    "    lemma = WordNetLemmatizer()  # Initiate Lemmatizer\n",
    "    lemmatized = [lemma.lemmatize(word)\n",
    "                  for word in without_stopwords]  # Lemmatize\n",
    "    return lemmatized\n",
    "\n",
    "data['clean_text'] = data.text.apply(clean)"
   ]
  },
  {
   "cell_type": "code",
   "execution_count": 7,
   "metadata": {},
   "outputs": [],
   "source": [
    "data['clean_text'] = data['clean_text'].astype('str')"
   ]
  },
  {
   "cell_type": "markdown",
   "metadata": {},
   "source": [
    "### Vectorize "
   ]
  },
  {
   "cell_type": "markdown",
   "metadata": {},
   "source": [
    "##### CountVectorizer, Tf-idf vectorizer, hashingVectorizer"
   ]
  },
  {
   "cell_type": "code",
   "execution_count": 18,
   "metadata": {},
   "outputs": [
    {
     "data": {
      "text/plain": [
       "(1000, 25186)"
      ]
     },
     "execution_count": 18,
     "metadata": {},
     "output_type": "execute_result"
    }
   ],
   "source": [
    "vectorizer = CountVectorizer()\n",
    "data_vectorized = vectorizer.fit_transform(data['clean_text'])\n",
    "data_vectorized.toarray().shape"
   ]
  },
  {
   "cell_type": "code",
   "execution_count": 21,
   "metadata": {},
   "outputs": [
    {
     "data": {
      "text/plain": [
       "(1000, 25186)"
      ]
     },
     "execution_count": 21,
     "metadata": {},
     "output_type": "execute_result"
    }
   ],
   "source": [
    "vectorizer= TfidfVectorizer()\n",
    "data_tf_vectorized = vectorizer.fit_transform(data.clean_text)\n",
    "data_tf_vectorized.toarray().shape"
   ]
  },
  {
   "cell_type": "code",
   "execution_count": 10,
   "metadata": {},
   "outputs": [],
   "source": [
    "vectorizer = HashingVectorizer()\n",
    "data_hash_vectorized = vectorizer.fit_transform(data['clean_text'])"
   ]
  },
  {
   "cell_type": "markdown",
   "metadata": {},
   "source": [
    "### Train_test_split"
   ]
  },
  {
   "cell_type": "code",
   "execution_count": 19,
   "metadata": {},
   "outputs": [
    {
     "data": {
      "text/plain": [
       "0      ['thursday', 'night', 'start', 'em', 'sit', 'e...\n",
       "1      ['monkey', 'thief', 'wanted', 'ice', 'cream', ...\n",
       "2      ['puckin', 'hostile', 'shoutcast', 'episode', ...\n",
       "3      ['mexico', 'city', 'thomson', 'reuters', 'foun...\n",
       "4      ['brussels', 'reuters', 'britain', 'rather', '...\n",
       "5      ['image', 'copyright', 'getty', 'image', 'imag...\n",
       "6      ['aaron', 'kesel', 'mysterious', 'metal', 'tow...\n",
       "7      ['catherine', 'j', 'frompovich', 'february', '...\n",
       "8      ['man', 'howard', 'university', 'student', 'mu...\n",
       "9      ['prosecutor', 'presented', 'first', 'evidence...\n",
       "10     ['would', 'feel', 'blackhawks', 'lineup', 'new...\n",
       "11     ['volcano', 'near', 'bali', 'sent', 'thousand'...\n",
       "12     ['raven', 'abandon', 'running', 'game', 'news'...\n",
       "13     ['aaron', 'david', 'miller', 'vice', 'presiden...\n",
       "14     ['beijing', 'reuters', 'thirteen', 'chinese', ...\n",
       "15     ['cnn', 'dancing', 'star', 'show', 'design', '...\n",
       "16     ['last', 'year', 'nbc', 'news', 'scooped', 'on...\n",
       "17     ['london', 'reuters', 'last', 'flag', 'flying'...\n",
       "18     ['kinshasa', 'reuters', 'election', 'replace',...\n",
       "19     ['file', 'photo', 'sign', 'stand', 'outside', ...\n",
       "20     ['explosion', 'shook', 'manhattan', 'busy', 'c...\n",
       "21     ['image', 'copyright', 'afp', 'image', 'captio...\n",
       "22     ['image', 'copyright', 'youtube', 'image', 'ca...\n",
       "23     ['official', 'estimation', 'many', 'aware', 'p...\n",
       "24     ['reuters', 'news', 'south', 'korea', 'dominat...\n",
       "25     ['news', 'jim', 'stone', 'freelance', 'reporte...\n",
       "26     ['around', 'acc', 'blogosphere', 'september', ...\n",
       "27     ['logo', 'mexico', 'state', 'owned', 'company'...\n",
       "28     ['jay', 'syrmopoulos', 'washington', 'dc', 'se...\n",
       "29     ['week', 'ranking', 'top', 'running', 'back', ...\n",
       "                             ...                        \n",
       "970    ['abulfazl', 'medical', 'doctor', 'played', 'a...\n",
       "971    ['weinstein', 'scandal', 'hollywood', 'contemp...\n",
       "972    ['london', 'reuters', 'oil', 'market', 'rebala...\n",
       "973    ['president', 'trump', 'started', 'ended', 'da...\n",
       "974    ['ankara', 'reuters', 'german', 'journalist', ...\n",
       "975    ['news', 'emigrate', 'still', 'learn', 'tried'...\n",
       "976    ['story', 'highlight', 'least', 'rohingya', 'r...\n",
       "977    ['cnn', 'small', 'blue', 'house', 'northern', ...\n",
       "978    ['toronto', 'wolfpack', 'gained', 'promotion',...\n",
       "979    ['u', 'secretary', 'state', 'rex', 'tillerson'...\n",
       "980    ['rio', 'de', 'janeiro', 'reuters', 'brazilian...\n",
       "981    ['maddon', 'well', 'known', 'trying', 'keep', ...\n",
       "982    ['create', 'ranking', 'europe', 'innovative', ...\n",
       "983    ['get', 'ready', 'see', 'five', 'extremely', '...\n",
       "984    ['cowboy', 'wr', 'dez', 'bryant', 'team', 'don...\n",
       "985    ['news', 'san', 'juan', 'mayor', 'keep', 'bloc...\n",
       "986    ['chicago', 'based', 'rock', 'band', 'introduc...\n",
       "987    ['jeremy', 'straub', 'north', 'dakota', 'state...\n",
       "988    ['washington', 'cnn', 'white', 'house', 'couns...\n",
       "989    ['maddie', 'meyer', 'getty', 'image', 'carolin...\n",
       "990    ['aaron', 'kesel', 'credit', 'reporting', 'age...\n",
       "991    ['rosanne', 'lindsay', 'know', 'freedom', 'kno...\n",
       "992    ['matt', 'agorist', 'first', 'time', 'since', ...\n",
       "993    ['struggle', 'amputee', 'mona', 'patel', 'star...\n",
       "994    ['news', 'american', 'people', 'learn', 'tragi...\n",
       "995    ['bounce', 'back', 'bust', 'albert', 'pujols',...\n",
       "996    ['tailgate', 'jaguar', 'v', 'jet', 'news', 'ja...\n",
       "997    ['harvey', 'weinstein', 'sign', 'statement', '...\n",
       "998    ['tokyo', 'reuters', 'kobe', 'steel', 'ceo', '...\n",
       "999    ['image', 'copyright', 'instagram', 'renowned'...\n",
       "Name: clean_text, Length: 1000, dtype: object"
      ]
     },
     "execution_count": 19,
     "metadata": {},
     "output_type": "execute_result"
    }
   ],
   "source": [
    "data.clean_text"
   ]
  },
  {
   "cell_type": "code",
   "execution_count": null,
   "metadata": {},
   "outputs": [],
   "source": []
  },
  {
   "cell_type": "code",
   "execution_count": null,
   "metadata": {},
   "outputs": [],
   "source": []
  },
  {
   "cell_type": "markdown",
   "metadata": {},
   "source": [
    "### Embedding "
   ]
  },
  {
   "cell_type": "code",
   "execution_count": null,
   "metadata": {},
   "outputs": [],
   "source": []
  },
  {
   "cell_type": "code",
   "execution_count": null,
   "metadata": {},
   "outputs": [],
   "source": []
  },
  {
   "cell_type": "code",
   "execution_count": null,
   "metadata": {},
   "outputs": [],
   "source": []
  },
  {
   "cell_type": "markdown",
   "metadata": {},
   "source": [
    "### Model "
   ]
  },
  {
   "cell_type": "code",
   "execution_count": null,
   "metadata": {},
   "outputs": [],
   "source": []
  },
  {
   "cell_type": "code",
   "execution_count": null,
   "metadata": {},
   "outputs": [],
   "source": []
  },
  {
   "cell_type": "code",
   "execution_count": null,
   "metadata": {},
   "outputs": [],
   "source": []
  },
  {
   "cell_type": "markdown",
   "metadata": {},
   "source": [
    "### Evaluating \n"
   ]
  },
  {
   "cell_type": "code",
   "execution_count": null,
   "metadata": {},
   "outputs": [],
   "source": []
  },
  {
   "cell_type": "code",
   "execution_count": null,
   "metadata": {},
   "outputs": [],
   "source": []
  },
  {
   "cell_type": "code",
   "execution_count": null,
   "metadata": {},
   "outputs": [],
   "source": []
  }
 ],
 "metadata": {
  "kernelspec": {
   "display_name": "Python 3",
   "language": "python",
   "name": "python3"
  },
  "language_info": {
   "codemirror_mode": {
    "name": "ipython",
    "version": 3
   },
   "file_extension": ".py",
   "mimetype": "text/x-python",
   "name": "python",
   "nbconvert_exporter": "python",
   "pygments_lexer": "ipython3",
   "version": "3.7.7"
  },
  "toc": {
   "base_numbering": 1,
   "nav_menu": {},
   "number_sections": true,
   "sideBar": true,
   "skip_h1_title": false,
   "title_cell": "Table of Contents",
   "title_sidebar": "Contents",
   "toc_cell": false,
   "toc_position": {},
   "toc_section_display": true,
   "toc_window_display": false
  },
  "varInspector": {
   "cols": {
    "lenName": 16,
    "lenType": 16,
    "lenVar": 40
   },
   "kernels_config": {
    "python": {
     "delete_cmd_postfix": "",
     "delete_cmd_prefix": "del ",
     "library": "var_list.py",
     "varRefreshCmd": "print(var_dic_list())"
    },
    "r": {
     "delete_cmd_postfix": ") ",
     "delete_cmd_prefix": "rm(",
     "library": "var_list.r",
     "varRefreshCmd": "cat(var_dic_list()) "
    }
   },
   "types_to_exclude": [
    "module",
    "function",
    "builtin_function_or_method",
    "instance",
    "_Feature"
   ],
   "window_display": false
  }
 },
 "nbformat": 4,
 "nbformat_minor": 4
}
