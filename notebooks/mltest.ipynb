{
 "cells": [
  {
   "cell_type": "markdown",
   "metadata": {},
   "source": [
    "Machine Learning Test "
   ]
  },
  {
   "cell_type": "markdown",
   "metadata": {
    "heading_collapsed": true
   },
   "source": [
    "# Imports"
   ]
  },
  {
   "cell_type": "code",
   "execution_count": 1,
   "metadata": {
    "ExecuteTime": {
     "end_time": "2020-11-24T16:58:06.090753Z",
     "start_time": "2020-11-24T16:58:02.620865Z"
    },
    "hidden": true
   },
   "outputs": [],
   "source": [
    "import matplotlib\n",
    "%matplotlib inline\n",
    "import numpy as np\n",
    "import pandas as pd\n",
    "import string\n",
    "from nltk.corpus import stopwords\n",
    "from nltk.tokenize import word_tokenize\n",
    "from nltk.stem import WordNetLemmatizer\n",
    "import matplotlib.pyplot as plt\n",
    "from sklearn.feature_extraction.text import CountVectorizer, TfidfVectorizer, HashingVectorizer\n",
    "from sklearn.model_selection import train_test_split\n",
    "from sklearn.linear_model import PassiveAggressiveClassifier\n",
    "from sklearn import metrics\n",
    "import numpy as np\n",
    "import itertools\n",
    "from sklearn.metrics import confusion_matrix\n",
    "from sklearn.tree import DecisionTreeClassifier\n",
    "from sklearn.naive_bayes import MultinomialNB\n",
    "from sklearn.dummy import DummyClassifier\n",
    "from sklearn.model_selection import cross_validate"
   ]
  },
  {
   "cell_type": "markdown",
   "metadata": {
    "heading_collapsed": true
   },
   "source": [
    "# Datasets"
   ]
  },
  {
   "cell_type": "markdown",
   "metadata": {
    "heading_collapsed": true,
    "hidden": true
   },
   "source": [
    "## Full Dataset"
   ]
  },
  {
   "cell_type": "code",
   "execution_count": 2,
   "metadata": {
    "ExecuteTime": {
     "end_time": "2020-11-24T16:58:08.563828Z",
     "start_time": "2020-11-24T16:58:06.095114Z"
    },
    "hidden": true
   },
   "outputs": [],
   "source": [
    "df = pd.read_csv('~/Desktop/fake_news_data/dataset.csv')"
   ]
  },
  {
   "cell_type": "code",
   "execution_count": 3,
   "metadata": {
    "ExecuteTime": {
     "end_time": "2020-11-24T16:58:08.581209Z",
     "start_time": "2020-11-24T16:58:08.574778Z"
    },
    "hidden": true
   },
   "outputs": [],
   "source": [
    "df.head()\n",
    "del df['Unnamed: 0']"
   ]
  },
  {
   "cell_type": "code",
   "execution_count": 4,
   "metadata": {
    "ExecuteTime": {
     "end_time": "2020-11-24T16:58:08.600309Z",
     "start_time": "2020-11-24T16:58:08.584494Z"
    },
    "hidden": true
   },
   "outputs": [
    {
     "data": {
      "text/html": [
       "<div>\n",
       "<style scoped>\n",
       "    .dataframe tbody tr th:only-of-type {\n",
       "        vertical-align: middle;\n",
       "    }\n",
       "\n",
       "    .dataframe tbody tr th {\n",
       "        vertical-align: top;\n",
       "    }\n",
       "\n",
       "    .dataframe thead th {\n",
       "        text-align: right;\n",
       "    }\n",
       "</style>\n",
       "<table border=\"1\" class=\"dataframe\">\n",
       "  <thead>\n",
       "    <tr style=\"text-align: right;\">\n",
       "      <th></th>\n",
       "      <th>title</th>\n",
       "      <th>text</th>\n",
       "      <th>label</th>\n",
       "    </tr>\n",
       "  </thead>\n",
       "  <tbody>\n",
       "    <tr>\n",
       "      <th>0</th>\n",
       "      <td>Four ways Bob Corker skewered Donald Trump</td>\n",
       "      <td>Image copyright Getty Images\\nOn Sunday mornin...</td>\n",
       "      <td>0</td>\n",
       "    </tr>\n",
       "    <tr>\n",
       "      <th>1</th>\n",
       "      <td>Linklater's war veteran comedy speaks to moder...</td>\n",
       "      <td>LONDON (Reuters) - “Last Flag Flying”, a comed...</td>\n",
       "      <td>0</td>\n",
       "    </tr>\n",
       "    <tr>\n",
       "      <th>2</th>\n",
       "      <td>Trump’s Fight With Corker Jeopardizes His Legi...</td>\n",
       "      <td>The feud broke into public view last week when...</td>\n",
       "      <td>0</td>\n",
       "    </tr>\n",
       "    <tr>\n",
       "      <th>3</th>\n",
       "      <td>Egypt's Cheiron wins tie-up with Pemex for Mex...</td>\n",
       "      <td>MEXICO CITY (Reuters) - Egypt’s Cheiron Holdin...</td>\n",
       "      <td>0</td>\n",
       "    </tr>\n",
       "    <tr>\n",
       "      <th>4</th>\n",
       "      <td>Jason Aldean opens 'SNL' with Vegas tribute</td>\n",
       "      <td>Country singer Jason Aldean, who was performin...</td>\n",
       "      <td>0</td>\n",
       "    </tr>\n",
       "  </tbody>\n",
       "</table>\n",
       "</div>"
      ],
      "text/plain": [
       "                                               title  \\\n",
       "0         Four ways Bob Corker skewered Donald Trump   \n",
       "1  Linklater's war veteran comedy speaks to moder...   \n",
       "2  Trump’s Fight With Corker Jeopardizes His Legi...   \n",
       "3  Egypt's Cheiron wins tie-up with Pemex for Mex...   \n",
       "4        Jason Aldean opens 'SNL' with Vegas tribute   \n",
       "\n",
       "                                                text  label  \n",
       "0  Image copyright Getty Images\\nOn Sunday mornin...      0  \n",
       "1  LONDON (Reuters) - “Last Flag Flying”, a comed...      0  \n",
       "2  The feud broke into public view last week when...      0  \n",
       "3  MEXICO CITY (Reuters) - Egypt’s Cheiron Holdin...      0  \n",
       "4  Country singer Jason Aldean, who was performin...      0  "
      ]
     },
     "execution_count": 4,
     "metadata": {},
     "output_type": "execute_result"
    }
   ],
   "source": [
    "df.head()"
   ]
  },
  {
   "cell_type": "markdown",
   "metadata": {
    "ExecuteTime": {
     "end_time": "2020-11-24T12:30:51.555519Z",
     "start_time": "2020-11-24T12:30:51.549401Z"
    },
    "heading_collapsed": true,
    "hidden": true
   },
   "source": [
    "## Sample Dataset"
   ]
  },
  {
   "cell_type": "code",
   "execution_count": 5,
   "metadata": {
    "ExecuteTime": {
     "end_time": "2020-11-24T16:58:08.613740Z",
     "start_time": "2020-11-24T16:58:08.603415Z"
    },
    "hidden": true
   },
   "outputs": [],
   "source": [
    "df_sample = df.sample(frac=0.02, random_state=3)"
   ]
  },
  {
   "cell_type": "code",
   "execution_count": 6,
   "metadata": {
    "ExecuteTime": {
     "end_time": "2020-11-24T16:58:08.626400Z",
     "start_time": "2020-11-24T16:58:08.616375Z"
    },
    "hidden": true
   },
   "outputs": [
    {
     "data": {
      "text/plain": [
       "(1299, 3)"
      ]
     },
     "execution_count": 6,
     "metadata": {},
     "output_type": "execute_result"
    }
   ],
   "source": [
    "df_sample.shape"
   ]
  },
  {
   "cell_type": "code",
   "execution_count": 7,
   "metadata": {
    "ExecuteTime": {
     "end_time": "2020-11-24T16:58:08.646393Z",
     "start_time": "2020-11-24T16:58:08.634075Z"
    },
    "hidden": true
   },
   "outputs": [
    {
     "data": {
      "text/plain": [
       "0    711\n",
       "1    588\n",
       "Name: label, dtype: int64"
      ]
     },
     "execution_count": 7,
     "metadata": {},
     "output_type": "execute_result"
    }
   ],
   "source": [
    "df_sample['label'].value_counts()"
   ]
  },
  {
   "cell_type": "code",
   "execution_count": 8,
   "metadata": {
    "ExecuteTime": {
     "end_time": "2020-11-24T16:58:08.665097Z",
     "start_time": "2020-11-24T16:58:08.656397Z"
    },
    "hidden": true
   },
   "outputs": [],
   "source": [
    "df_sample = df_sample.reset_index(drop=True)"
   ]
  },
  {
   "cell_type": "markdown",
   "metadata": {
    "heading_collapsed": true
   },
   "source": [
    "# X and y"
   ]
  },
  {
   "cell_type": "code",
   "execution_count": 9,
   "metadata": {
    "ExecuteTime": {
     "end_time": "2020-11-24T16:58:08.679523Z",
     "start_time": "2020-11-24T16:58:08.673185Z"
    },
    "hidden": true
   },
   "outputs": [],
   "source": [
    "y = df_sample['label']"
   ]
  },
  {
   "cell_type": "code",
   "execution_count": 10,
   "metadata": {
    "ExecuteTime": {
     "end_time": "2020-11-24T16:58:08.694922Z",
     "start_time": "2020-11-24T16:58:08.682305Z"
    },
    "hidden": true
   },
   "outputs": [
    {
     "data": {
      "text/plain": [
       "0    1\n",
       "1    0\n",
       "2    0\n",
       "3    0\n",
       "4    1\n",
       "Name: label, dtype: int64"
      ]
     },
     "execution_count": 10,
     "metadata": {},
     "output_type": "execute_result"
    }
   ],
   "source": [
    "y.head()"
   ]
  },
  {
   "cell_type": "code",
   "execution_count": 11,
   "metadata": {
    "ExecuteTime": {
     "end_time": "2020-11-24T16:58:08.711466Z",
     "start_time": "2020-11-24T16:58:08.697597Z"
    },
    "hidden": true
   },
   "outputs": [],
   "source": [
    "X = df_sample.drop('label',axis=1)"
   ]
  },
  {
   "cell_type": "code",
   "execution_count": 12,
   "metadata": {
    "ExecuteTime": {
     "end_time": "2020-11-24T16:58:08.731383Z",
     "start_time": "2020-11-24T16:58:08.713723Z"
    },
    "hidden": true
   },
   "outputs": [
    {
     "data": {
      "text/html": [
       "<div>\n",
       "<style scoped>\n",
       "    .dataframe tbody tr th:only-of-type {\n",
       "        vertical-align: middle;\n",
       "    }\n",
       "\n",
       "    .dataframe tbody tr th {\n",
       "        vertical-align: top;\n",
       "    }\n",
       "\n",
       "    .dataframe thead th {\n",
       "        text-align: right;\n",
       "    }\n",
       "</style>\n",
       "<table border=\"1\" class=\"dataframe\">\n",
       "  <thead>\n",
       "    <tr style=\"text-align: right;\">\n",
       "      <th></th>\n",
       "      <th>title</th>\n",
       "      <th>text</th>\n",
       "    </tr>\n",
       "  </thead>\n",
       "  <tbody>\n",
       "    <tr>\n",
       "      <th>0</th>\n",
       "      <td>An open letter from Vladislav Krasnov, Ph.D. a...</td>\n",
       "      <td>Mon, 24 Oct 2016 00:00 UTC © Fitzgerald Griffi...</td>\n",
       "    </tr>\n",
       "    <tr>\n",
       "      <th>1</th>\n",
       "      <td>U.S. preparing plan to draw down embassy staff...</td>\n",
       "      <td>WASHINGTON (Reuters) - The United States is cr...</td>\n",
       "    </tr>\n",
       "    <tr>\n",
       "      <th>2</th>\n",
       "      <td>Forgotten No Longer: Pennsylvania Breitbart Re...</td>\n",
       "      <td>Several Breitbart News Daily SiriusXM listener...</td>\n",
       "    </tr>\n",
       "    <tr>\n",
       "      <th>3</th>\n",
       "      <td>German minister warns on Washington trip again...</td>\n",
       "      <td>WASHINGTON (Reuters) - Germany’s foreign minis...</td>\n",
       "    </tr>\n",
       "    <tr>\n",
       "      <th>4</th>\n",
       "      <td>HOLY MOLY! TRUMP GIVES EPIC News Conference…SL...</td>\n",
       "      <td>During Trump s press conference today, Jim Aco...</td>\n",
       "    </tr>\n",
       "  </tbody>\n",
       "</table>\n",
       "</div>"
      ],
      "text/plain": [
       "                                               title  \\\n",
       "0  An open letter from Vladislav Krasnov, Ph.D. a...   \n",
       "1  U.S. preparing plan to draw down embassy staff...   \n",
       "2  Forgotten No Longer: Pennsylvania Breitbart Re...   \n",
       "3  German minister warns on Washington trip again...   \n",
       "4  HOLY MOLY! TRUMP GIVES EPIC News Conference…SL...   \n",
       "\n",
       "                                                text  \n",
       "0  Mon, 24 Oct 2016 00:00 UTC © Fitzgerald Griffi...  \n",
       "1  WASHINGTON (Reuters) - The United States is cr...  \n",
       "2  Several Breitbart News Daily SiriusXM listener...  \n",
       "3  WASHINGTON (Reuters) - Germany’s foreign minis...  \n",
       "4  During Trump s press conference today, Jim Aco...  "
      ]
     },
     "execution_count": 12,
     "metadata": {},
     "output_type": "execute_result"
    }
   ],
   "source": [
    "X.head()"
   ]
  },
  {
   "cell_type": "code",
   "execution_count": 13,
   "metadata": {
    "ExecuteTime": {
     "end_time": "2020-11-24T16:58:08.874990Z",
     "start_time": "2020-11-24T16:58:08.736172Z"
    },
    "hidden": true
   },
   "outputs": [
    {
     "name": "stdout",
     "output_type": "stream",
     "text": [
      "\u001b[01;34m.\u001b[00m\r\n",
      "└── mltest.ipynb\r\n",
      "\r\n",
      "0 directories, 1 file\r\n"
     ]
    }
   ],
   "source": [
    "!tree"
   ]
  },
  {
   "cell_type": "markdown",
   "metadata": {
    "heading_collapsed": true
   },
   "source": [
    "# Preprocessing"
   ]
  },
  {
   "cell_type": "code",
   "execution_count": 14,
   "metadata": {
    "ExecuteTime": {
     "end_time": "2020-11-24T16:58:08.888697Z",
     "start_time": "2020-11-24T16:58:08.879296Z"
    },
    "hidden": true
   },
   "outputs": [],
   "source": [
    "def clean(text):\n",
    "    for punctuation in string.punctuation:\n",
    "        text = text.replace(punctuation, ' ')  # Remove Punctuation\n",
    "    lowercased = text.lower()  # Lower Case\n",
    "    tokenized = word_tokenize(lowercased)  # Tokenize\n",
    "    words_only = [word for word in tokenized if word.isalpha()\n",
    "                  ]  # Remove numbers\n",
    "    stop_words = set(stopwords.words('english'))  # Make stopword list\n",
    "    # Remove Stop Words\n",
    "    without_stopwords = [word for word in words_only if not word in stop_words]\n",
    "    lemma = WordNetLemmatizer()  # Initiate Lemmatizer\n",
    "    lemmatized = [lemma.lemmatize(word)\n",
    "                  for word in without_stopwords]  # Lemmatize\n",
    "    return lemmatized"
   ]
  },
  {
   "cell_type": "code",
   "execution_count": 15,
   "metadata": {
    "ExecuteTime": {
     "end_time": "2020-11-24T16:58:15.731915Z",
     "start_time": "2020-11-24T16:58:08.893735Z"
    },
    "hidden": true
   },
   "outputs": [],
   "source": [
    "df_sample_text = df_sample['text'].apply(lambda text: clean(text))"
   ]
  },
  {
   "cell_type": "code",
   "execution_count": 16,
   "metadata": {
    "ExecuteTime": {
     "end_time": "2020-11-24T16:58:15.755683Z",
     "start_time": "2020-11-24T16:58:15.734099Z"
    },
    "hidden": true
   },
   "outputs": [
    {
     "data": {
      "text/plain": [
       "0     [mon, oct, utc, fitzgerald, griffin, foundatio...\n",
       "1     [washington, reuters, united, state, crafting,...\n",
       "2     [several, breitbart, news, daily, siriusxm, li...\n",
       "3     [washington, reuters, germany, foreign, minist...\n",
       "4     [trump, press, conference, today, jim, acosta,...\n",
       "5     [drive, southwest, interstate, eating, barbecu...\n",
       "6     [two, week, ago, middlebury, college, charles,...\n",
       "7     [liz, heron, executive, editor, huffington, po...\n",
       "8     [dems, hammer, republican, planned, vote, allo...\n",
       "9     [madrid, reuters, spanish, supreme, court, jud...\n",
       "10    [washington, reuters, u, congress, friday, cer...\n",
       "11    [washington, reuters, japanese, first, lady, a...\n",
       "12    [jeb, bush, suspends, campaign, honorable, thi...\n",
       "13    [united, nation, reuters, chinese, foreign, mi...\n",
       "14    [posted, october, frank, scott, greatest, obje...\n",
       "15    [un, allegedly, nixed, report, predicted, rohi...\n",
       "16    [reuters, oklahoma, republican, governor, mary...\n",
       "17    [place, ever, overseas, place, overseas, matte...\n",
       "18    [mexico, city, reuters, mexico, need, show, en...\n",
       "19    [rome, reuters, british, prime, minister, ther...\n",
       "Name: text, dtype: object"
      ]
     },
     "execution_count": 16,
     "metadata": {},
     "output_type": "execute_result"
    }
   ],
   "source": [
    "df_sample_text.head(20)"
   ]
  },
  {
   "cell_type": "code",
   "execution_count": 17,
   "metadata": {
    "ExecuteTime": {
     "end_time": "2020-11-24T16:58:15.777036Z",
     "start_time": "2020-11-24T16:58:15.758408Z"
    },
    "hidden": true
   },
   "outputs": [],
   "source": [
    "df_sample_text_joined = df_sample_text.apply(lambda x: \" \".join(x))"
   ]
  },
  {
   "cell_type": "code",
   "execution_count": 18,
   "metadata": {
    "ExecuteTime": {
     "end_time": "2020-11-24T16:58:15.788956Z",
     "start_time": "2020-11-24T16:58:15.780098Z"
    },
    "hidden": true
   },
   "outputs": [
    {
     "data": {
      "text/plain": [
       "0    mon oct utc fitzgerald griffin foundation russ...\n",
       "1    washington reuters united state crafting plan ...\n",
       "2    several breitbart news daily siriusxm listener...\n",
       "3    washington reuters germany foreign minister wa...\n",
       "4    trump press conference today jim acosta cnn bo...\n",
       "Name: text, dtype: object"
      ]
     },
     "execution_count": 18,
     "metadata": {},
     "output_type": "execute_result"
    }
   ],
   "source": [
    "df_sample_text_joined.head()"
   ]
  },
  {
   "cell_type": "markdown",
   "metadata": {
    "heading_collapsed": true
   },
   "source": [
    "# Vectorizers"
   ]
  },
  {
   "cell_type": "markdown",
   "metadata": {
    "hidden": true
   },
   "source": [
    "## Count Vectorizer"
   ]
  },
  {
   "cell_type": "code",
   "execution_count": 19,
   "metadata": {
    "ExecuteTime": {
     "end_time": "2020-11-24T16:58:15.795511Z",
     "start_time": "2020-11-24T16:58:15.791389Z"
    },
    "hidden": true
   },
   "outputs": [],
   "source": [
    "cv = CountVectorizer(max_features=10000)"
   ]
  },
  {
   "cell_type": "code",
   "execution_count": 20,
   "metadata": {
    "ExecuteTime": {
     "end_time": "2020-11-24T16:58:16.229605Z",
     "start_time": "2020-11-24T16:58:15.799037Z"
    },
    "hidden": true
   },
   "outputs": [],
   "source": [
    "X_cv = cv.fit_transform(df_sample_text_joined).todense()"
   ]
  },
  {
   "cell_type": "code",
   "execution_count": 21,
   "metadata": {
    "ExecuteTime": {
     "end_time": "2020-11-24T16:58:16.238224Z",
     "start_time": "2020-11-24T16:58:16.231976Z"
    },
    "hidden": true
   },
   "outputs": [
    {
     "data": {
      "text/plain": [
       "(1299, 10000)"
      ]
     },
     "execution_count": 21,
     "metadata": {},
     "output_type": "execute_result"
    }
   ],
   "source": [
    "X_cv.shape"
   ]
  },
  {
   "cell_type": "markdown",
   "metadata": {
    "heading_collapsed": true,
    "hidden": true
   },
   "source": [
    "## TFidf Vectorizer"
   ]
  },
  {
   "cell_type": "code",
   "execution_count": 22,
   "metadata": {
    "ExecuteTime": {
     "end_time": "2020-11-24T16:58:16.245747Z",
     "start_time": "2020-11-24T16:58:16.240990Z"
    },
    "hidden": true
   },
   "outputs": [],
   "source": [
    "## TFidf Vectorizer\n",
    "tfidf_vec=TfidfVectorizer(max_features=10000,ngram_range=(1,3))"
   ]
  },
  {
   "cell_type": "code",
   "execution_count": 23,
   "metadata": {
    "ExecuteTime": {
     "end_time": "2020-11-24T16:58:20.406867Z",
     "start_time": "2020-11-24T16:58:16.249049Z"
    },
    "hidden": true
   },
   "outputs": [],
   "source": [
    "X_tfidf = tfidf_vec.fit_transform(df_sample_text_joined).toarray()"
   ]
  },
  {
   "cell_type": "code",
   "execution_count": 24,
   "metadata": {
    "ExecuteTime": {
     "end_time": "2020-11-24T16:58:20.415470Z",
     "start_time": "2020-11-24T16:58:20.409424Z"
    },
    "hidden": true
   },
   "outputs": [
    {
     "data": {
      "text/plain": [
       "(1299, 10000)"
      ]
     },
     "execution_count": 24,
     "metadata": {},
     "output_type": "execute_result"
    }
   ],
   "source": [
    "X_tfidf.shape"
   ]
  },
  {
   "cell_type": "markdown",
   "metadata": {
    "heading_collapsed": true,
    "hidden": true
   },
   "source": [
    "## HashingVectorizer"
   ]
  },
  {
   "cell_type": "code",
   "execution_count": 25,
   "metadata": {
    "ExecuteTime": {
     "end_time": "2020-11-24T16:58:20.425504Z",
     "start_time": "2020-11-24T16:58:20.419782Z"
    },
    "hidden": true
   },
   "outputs": [],
   "source": [
    "hs_vectorizer = HashingVectorizer(n_features=10000,non_negative=True)"
   ]
  },
  {
   "cell_type": "code",
   "execution_count": 26,
   "metadata": {
    "ExecuteTime": {
     "end_time": "2020-11-24T16:58:20.775118Z",
     "start_time": "2020-11-24T16:58:20.435309Z"
    },
    "hidden": true,
    "scrolled": true
   },
   "outputs": [
    {
     "name": "stderr",
     "output_type": "stream",
     "text": [
      "/Users/jonathanvareika/.pyenv/versions/3.7.7/envs/lewagon/lib/python3.7/site-packages/sklearn/feature_extraction/hashing.py:102: DeprecationWarning: the option non_negative=True has been deprecated in 0.19 and will be removed in version 0.21.\n",
      "  \" in version 0.21.\", DeprecationWarning)\n",
      "/Users/jonathanvareika/.pyenv/versions/3.7.7/envs/lewagon/lib/python3.7/site-packages/sklearn/feature_extraction/hashing.py:102: DeprecationWarning: the option non_negative=True has been deprecated in 0.19 and will be removed in version 0.21.\n",
      "  \" in version 0.21.\", DeprecationWarning)\n"
     ]
    }
   ],
   "source": [
    "X_hs = hs_vectorizer.fit_transform(df_sample_text_joined).toarray()"
   ]
  },
  {
   "cell_type": "code",
   "execution_count": 27,
   "metadata": {
    "ExecuteTime": {
     "end_time": "2020-11-24T16:58:20.786675Z",
     "start_time": "2020-11-24T16:58:20.778889Z"
    },
    "hidden": true
   },
   "outputs": [
    {
     "data": {
      "text/plain": [
       "(1299, 10000)"
      ]
     },
     "execution_count": 27,
     "metadata": {},
     "output_type": "execute_result"
    }
   ],
   "source": [
    "X_hs.shape"
   ]
  },
  {
   "cell_type": "markdown",
   "metadata": {
    "heading_collapsed": true
   },
   "source": [
    "# Train Test Set"
   ]
  },
  {
   "cell_type": "code",
   "execution_count": 28,
   "metadata": {
    "ExecuteTime": {
     "end_time": "2020-11-24T16:58:20.849233Z",
     "start_time": "2020-11-24T16:58:20.789959Z"
    },
    "hidden": true
   },
   "outputs": [],
   "source": [
    "## Divide the dataset into Train and Test CountVectorizer\n",
    "X_train_cv, X_test_cv, y_train_cv, y_test_cv = train_test_split(X_cv, y, test_size=0.3, random_state=0)"
   ]
  },
  {
   "cell_type": "code",
   "execution_count": 29,
   "metadata": {
    "ExecuteTime": {
     "end_time": "2020-11-24T16:58:20.913168Z",
     "start_time": "2020-11-24T16:58:20.851594Z"
    },
    "hidden": true
   },
   "outputs": [],
   "source": [
    "## Divide the dataset into Train and Test TFidf Vectorizer\n",
    "X_train_tfidf, X_test_tfidf, y_train_tfidf, y_test_tfidf = train_test_split(X_tfidf, y, test_size=0.3, random_state=0)"
   ]
  },
  {
   "cell_type": "code",
   "execution_count": 30,
   "metadata": {
    "ExecuteTime": {
     "end_time": "2020-11-24T16:58:20.974868Z",
     "start_time": "2020-11-24T16:58:20.915635Z"
    },
    "hidden": true
   },
   "outputs": [],
   "source": [
    "## Divide the dataset into Train and Test Hashing Vecotrizer\n",
    "X_train_hs, X_test_hs, y_train_hs, y_test_hs = train_test_split(X_hs, y, test_size=0.3, random_state=0)"
   ]
  },
  {
   "cell_type": "markdown",
   "metadata": {
    "heading_collapsed": true
   },
   "source": [
    "# Models"
   ]
  },
  {
   "cell_type": "markdown",
   "metadata": {
    "heading_collapsed": true,
    "hidden": true
   },
   "source": [
    "## Baseline Model"
   ]
  },
  {
   "cell_type": "code",
   "execution_count": 31,
   "metadata": {
    "ExecuteTime": {
     "end_time": "2020-11-24T16:58:21.009764Z",
     "start_time": "2020-11-24T16:58:20.977080Z"
    },
    "hidden": true
   },
   "outputs": [
    {
     "data": {
      "text/plain": [
       "0.5473470437486059"
      ]
     },
     "execution_count": 31,
     "metadata": {},
     "output_type": "execute_result"
    }
   ],
   "source": [
    "\n",
    "# Baseline model\n",
    "baseline_model = DummyClassifier(strategy=\"most_frequent\")\n",
    "\n",
    "# Cross validate model\n",
    "baseline_cv = cross_validate(baseline_model, X, y, cv=10)\n",
    "\n",
    "# Baseline Accuracy\n",
    "score_baseline = baseline_cv['test_score'].mean()\n",
    "score_baseline"
   ]
  },
  {
   "cell_type": "markdown",
   "metadata": {
    "heading_collapsed": true,
    "hidden": true
   },
   "source": [
    "## DecsisionTreeClassifier with CountVectorizer"
   ]
  },
  {
   "cell_type": "code",
   "execution_count": 32,
   "metadata": {
    "ExecuteTime": {
     "end_time": "2020-11-24T16:58:21.510362Z",
     "start_time": "2020-11-24T16:58:21.011816Z"
    },
    "hidden": true
   },
   "outputs": [],
   "source": [
    "dtc = DecisionTreeClassifier(criterion='entropy')\n",
    "dtc.fit(X_train_cv, y_train_cv)\n",
    "y_pred_cv = dtc.predict(X_test_cv)"
   ]
  },
  {
   "cell_type": "code",
   "execution_count": 33,
   "metadata": {
    "ExecuteTime": {
     "end_time": "2020-11-24T16:58:21.520330Z",
     "start_time": "2020-11-24T16:58:21.512719Z"
    },
    "hidden": true
   },
   "outputs": [
    {
     "data": {
      "text/plain": [
       "array([[170,  45],\n",
       "       [ 29, 146]])"
      ]
     },
     "execution_count": 33,
     "metadata": {},
     "output_type": "execute_result"
    }
   ],
   "source": [
    "confusion_matrix(y_test_cv, y_pred_cv)"
   ]
  },
  {
   "cell_type": "code",
   "execution_count": 34,
   "metadata": {
    "ExecuteTime": {
     "end_time": "2020-11-24T16:58:21.529179Z",
     "start_time": "2020-11-24T16:58:21.523624Z"
    },
    "hidden": true
   },
   "outputs": [
    {
     "name": "stdout",
     "output_type": "stream",
     "text": [
      "accuracy:   0.810\n"
     ]
    }
   ],
   "source": [
    "score_decisionTree = metrics.accuracy_score(y_test_cv, y_pred_cv)\n",
    "print(\"accuracy:   %0.3f\" % score_decisionTree)"
   ]
  },
  {
   "cell_type": "markdown",
   "metadata": {
    "ExecuteTime": {
     "end_time": "2020-11-24T16:20:03.207940Z",
     "start_time": "2020-11-24T16:20:03.204520Z"
    },
    "heading_collapsed": true,
    "hidden": true
   },
   "source": [
    "## MultinomialNB with Tfidf Vectorizer"
   ]
  },
  {
   "cell_type": "code",
   "execution_count": 35,
   "metadata": {
    "ExecuteTime": {
     "end_time": "2020-11-24T16:58:21.535830Z",
     "start_time": "2020-11-24T16:58:21.532054Z"
    },
    "hidden": true
   },
   "outputs": [],
   "source": [
    "classifier = MultinomialNB()"
   ]
  },
  {
   "cell_type": "code",
   "execution_count": 36,
   "metadata": {
    "ExecuteTime": {
     "end_time": "2020-11-24T16:58:21.578386Z",
     "start_time": "2020-11-24T16:58:21.539707Z"
    },
    "hidden": true
   },
   "outputs": [],
   "source": [
    "classifier.fit(X_train_tfidf, y_train_tfidf)\n",
    "pred_tfidf = classifier.predict(X_test_tfidf)"
   ]
  },
  {
   "cell_type": "code",
   "execution_count": 37,
   "metadata": {
    "ExecuteTime": {
     "end_time": "2020-11-24T16:58:21.587132Z",
     "start_time": "2020-11-24T16:58:21.580601Z"
    },
    "hidden": true
   },
   "outputs": [
    {
     "data": {
      "text/plain": [
       "array([[188,  27],\n",
       "       [ 49, 126]])"
      ]
     },
     "execution_count": 37,
     "metadata": {},
     "output_type": "execute_result"
    }
   ],
   "source": [
    "confusion_matrix(y_test_tfidf, pred_tfidf)"
   ]
  },
  {
   "cell_type": "code",
   "execution_count": 38,
   "metadata": {
    "ExecuteTime": {
     "end_time": "2020-11-24T16:58:21.596062Z",
     "start_time": "2020-11-24T16:58:21.590109Z"
    },
    "hidden": true
   },
   "outputs": [
    {
     "name": "stdout",
     "output_type": "stream",
     "text": [
      "accuracy:   0.805\n"
     ]
    }
   ],
   "source": [
    "score_MNB_tfidf = metrics.accuracy_score(y_test_tfidf, pred_tfidf)\n",
    "print(\"accuracy:   %0.3f\" % score_MNB_tfidf)"
   ]
  },
  {
   "cell_type": "markdown",
   "metadata": {
    "ExecuteTime": {
     "end_time": "2020-11-24T16:20:51.143315Z",
     "start_time": "2020-11-24T16:20:51.133741Z"
    },
    "heading_collapsed": true,
    "hidden": true
   },
   "source": [
    "## Passive Aggressive Classifier with Tfidf Vectorizer"
   ]
  },
  {
   "cell_type": "code",
   "execution_count": 39,
   "metadata": {
    "ExecuteTime": {
     "end_time": "2020-11-24T16:58:21.604328Z",
     "start_time": "2020-11-24T16:58:21.599647Z"
    },
    "hidden": true
   },
   "outputs": [],
   "source": [
    "linear_clf = PassiveAggressiveClassifier(n_iter=50)"
   ]
  },
  {
   "cell_type": "code",
   "execution_count": 40,
   "metadata": {
    "ExecuteTime": {
     "end_time": "2020-11-24T16:58:22.771884Z",
     "start_time": "2020-11-24T16:58:21.608547Z"
    },
    "hidden": true,
    "scrolled": true
   },
   "outputs": [
    {
     "name": "stderr",
     "output_type": "stream",
     "text": [
      "/Users/jonathanvareika/.pyenv/versions/3.7.7/envs/lewagon/lib/python3.7/site-packages/sklearn/linear_model/stochastic_gradient.py:152: DeprecationWarning: n_iter parameter is deprecated in 0.19 and will be removed in 0.21. Use max_iter and tol instead.\n",
      "  DeprecationWarning)\n",
      "/Users/jonathanvareika/.pyenv/versions/3.7.7/envs/lewagon/lib/python3.7/site-packages/sklearn/linear_model/stochastic_gradient.py:152: DeprecationWarning: n_iter parameter is deprecated in 0.19 and will be removed in 0.21. Use max_iter and tol instead.\n",
      "  DeprecationWarning)\n"
     ]
    }
   ],
   "source": [
    "linear_clf.fit(X_train_tfidf, y_train_tfidf)\n",
    "pred_tfidf = linear_clf.predict(X_test_tfidf)"
   ]
  },
  {
   "cell_type": "code",
   "execution_count": 41,
   "metadata": {
    "ExecuteTime": {
     "end_time": "2020-11-24T16:58:22.783066Z",
     "start_time": "2020-11-24T16:58:22.773800Z"
    },
    "hidden": true
   },
   "outputs": [
    {
     "data": {
      "text/plain": [
       "array([[188,  27],\n",
       "       [ 23, 152]])"
      ]
     },
     "execution_count": 41,
     "metadata": {},
     "output_type": "execute_result"
    }
   ],
   "source": [
    "confusion_matrix(y_test_tfidf, pred_tfidf)"
   ]
  },
  {
   "cell_type": "code",
   "execution_count": 42,
   "metadata": {
    "ExecuteTime": {
     "end_time": "2020-11-24T16:58:22.794250Z",
     "start_time": "2020-11-24T16:58:22.786265Z"
    },
    "hidden": true
   },
   "outputs": [
    {
     "name": "stdout",
     "output_type": "stream",
     "text": [
      "accuracy:   0.872\n"
     ]
    }
   ],
   "source": [
    "score_pac = metrics.accuracy_score(y_test_tfidf, pred_tfidf)\n",
    "print(\"accuracy:   %0.3f\" % score_pac)"
   ]
  },
  {
   "cell_type": "markdown",
   "metadata": {
    "heading_collapsed": true,
    "hidden": true
   },
   "source": [
    "## Multinomial Classifier (Hyperparameter) with Tfidf Vecotrizer"
   ]
  },
  {
   "cell_type": "code",
   "execution_count": 43,
   "metadata": {
    "ExecuteTime": {
     "end_time": "2020-11-24T16:58:22.803802Z",
     "start_time": "2020-11-24T16:58:22.798050Z"
    },
    "hidden": true
   },
   "outputs": [],
   "source": [
    "classifier=MultinomialNB(alpha=0.1)"
   ]
  },
  {
   "cell_type": "code",
   "execution_count": 44,
   "metadata": {
    "ExecuteTime": {
     "end_time": "2020-11-24T16:58:23.079272Z",
     "start_time": "2020-11-24T16:58:22.810097Z"
    },
    "hidden": true
   },
   "outputs": [
    {
     "name": "stdout",
     "output_type": "stream",
     "text": [
      "Alpha: 0.0, Score : 0.8205128205128205\n",
      "Alpha: 0.1, Score : 0.823076923076923\n",
      "Alpha: 0.2, Score : 0.8282051282051283\n",
      "Alpha: 0.30000000000000004, Score : 0.8205128205128205\n",
      "Alpha: 0.4, Score : 0.823076923076923\n",
      "Alpha: 0.5, Score : 0.8307692307692308\n",
      "Alpha: 0.6000000000000001, Score : 0.8256410256410256\n"
     ]
    },
    {
     "name": "stderr",
     "output_type": "stream",
     "text": [
      "/Users/jonathanvareika/.pyenv/versions/3.7.7/envs/lewagon/lib/python3.7/site-packages/sklearn/naive_bayes.py:480: UserWarning: alpha too small will result in numeric errors, setting alpha = 1.0e-10\n",
      "  'setting alpha = %.1e' % _ALPHA_MIN)\n"
     ]
    },
    {
     "name": "stdout",
     "output_type": "stream",
     "text": [
      "Alpha: 0.7000000000000001, Score : 0.823076923076923\n",
      "Alpha: 0.8, Score : 0.8128205128205128\n",
      "Alpha: 0.9, Score : 0.8025641025641026\n"
     ]
    }
   ],
   "source": [
    "previous_score=0\n",
    "for alpha in np.arange(0,1,0.1):\n",
    "    sub_classifier=MultinomialNB(alpha=alpha)\n",
    "    sub_classifier.fit(X_train_tfidf,y_train_tfidf)\n",
    "    y_pred=sub_classifier.predict(X_test_tfidf)\n",
    "    score = metrics.accuracy_score(y_test_tfidf, y_pred)\n",
    "    if score>previous_score:\n",
    "        classifier=sub_classifier\n",
    "    print(\"Alpha: {}, Score : {}\".format(alpha,score))"
   ]
  },
  {
   "cell_type": "markdown",
   "metadata": {
    "ExecuteTime": {
     "end_time": "2020-11-24T16:22:28.445997Z",
     "start_time": "2020-11-24T16:22:28.442253Z"
    },
    "heading_collapsed": true,
    "hidden": true
   },
   "source": [
    "## MultinomialNB with Hashing Vectorizer"
   ]
  },
  {
   "cell_type": "code",
   "execution_count": 45,
   "metadata": {
    "ExecuteTime": {
     "end_time": "2020-11-24T16:58:23.086924Z",
     "start_time": "2020-11-24T16:58:23.081895Z"
    },
    "hidden": true
   },
   "outputs": [],
   "source": [
    "classifier = MultinomialNB()"
   ]
  },
  {
   "cell_type": "code",
   "execution_count": 46,
   "metadata": {
    "ExecuteTime": {
     "end_time": "2020-11-24T16:58:23.120464Z",
     "start_time": "2020-11-24T16:58:23.089689Z"
    },
    "hidden": true
   },
   "outputs": [
    {
     "name": "stdout",
     "output_type": "stream",
     "text": [
      "accuracy:   0.805\n"
     ]
    }
   ],
   "source": [
    "classifier.fit(X_train_tfidf, y_train_tfidf)\n",
    "pred = classifier.predict(X_test_tfidf)\n",
    "score_mnb_hv = metrics.accuracy_score(y_test_tfidf, pred)\n",
    "print(\"accuracy:   %0.3f\" % score_mnb_hv)"
   ]
  },
  {
   "cell_type": "markdown",
   "metadata": {},
   "source": [
    "# Overview"
   ]
  },
  {
   "cell_type": "code",
   "execution_count": 54,
   "metadata": {
    "ExecuteTime": {
     "end_time": "2020-11-24T17:25:03.257513Z",
     "start_time": "2020-11-24T17:25:03.248660Z"
    },
    "scrolled": true
   },
   "outputs": [
    {
     "name": "stdout",
     "output_type": "stream",
     "text": [
      "Baseline score is 0.5473470437486059\n",
      "DecisionTreeClassifier with CountVectorizer score is 0.8102564102564103\n",
      "MultinomialNB with Tfidf Vectorizer score is 0.8051282051282052\n",
      "Passive Agressive Classifier with Tfidf Vecotizer score is 0.8717948717948718\n",
      "Multinomial Classifier Hyperparameter with Tfidf Vectorizer best score is with alpha: 0.5, 0.8307692307692308\n",
      "MultinomialNB with Hashing Vecotrizer score is 0.8051282051282052\n"
     ]
    }
   ],
   "source": [
    "print(f'Baseline score is {score_baseline}')\n",
    "print(f'DecisionTreeClassifier with CountVectorizer score is {score_decisionTree}')\n",
    "print(f'MultinomialNB with Tfidf Vectorizer score is {score_MNB_tfidf}')\n",
    "print(f'Passive Agressive Classifier with Tfidf Vecotizer score is {score_pac}')\n",
    "print(\"Multinomial Classifier Hyperparameter with Tfidf Vectorizer best score is with alpha: 0.5, 0.8307692307692308\")\n",
    "print(f'MultinomialNB with Hashing Vecotrizer score is {score_mnb_hv}')"
   ]
  },
  {
   "cell_type": "code",
   "execution_count": null,
   "metadata": {},
   "outputs": [],
   "source": []
  }
 ],
 "metadata": {
  "kernelspec": {
   "display_name": "Python 3",
   "language": "python",
   "name": "python3"
  },
  "language_info": {
   "codemirror_mode": {
    "name": "ipython",
    "version": 3
   },
   "file_extension": ".py",
   "mimetype": "text/x-python",
   "name": "python",
   "nbconvert_exporter": "python",
   "pygments_lexer": "ipython3",
   "version": "3.7.7"
  },
  "toc": {
   "base_numbering": 1,
   "nav_menu": {},
   "number_sections": true,
   "sideBar": true,
   "skip_h1_title": false,
   "title_cell": "Table of Contents",
   "title_sidebar": "Contents",
   "toc_cell": false,
   "toc_position": {},
   "toc_section_display": true,
   "toc_window_display": false
  }
 },
 "nbformat": 4,
 "nbformat_minor": 4
}
